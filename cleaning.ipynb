{
 "cells": [
  {
   "cell_type": "code",
   "execution_count": 1,
   "metadata": {},
   "outputs": [],
   "source": [
    "import pandas as pd\n",
    "import numpy as np\n",
    "import matplotlib.pyplot as plt"
   ]
  },
  {
   "cell_type": "code",
   "execution_count": 2,
   "metadata": {},
   "outputs": [],
   "source": [
    "raw = pd.read_csv(\"Thesis-MTurk_April+23,+2024_23.05.csv\")"
   ]
  },
  {
   "cell_type": "code",
   "execution_count": 3,
   "metadata": {},
   "outputs": [],
   "source": [
    "raw_num = pd.read_csv(\"Thesis-MTurk_April+23,+2024_23.03.csv\")"
   ]
  },
  {
   "cell_type": "code",
   "execution_count": 4,
   "metadata": {},
   "outputs": [],
   "source": [
    "raw_uchi_num = pd.read_csv(\"Thesis-UChicago_April+24,+2024_08.30.csv\")"
   ]
  },
  {
   "cell_type": "code",
   "execution_count": 5,
   "metadata": {},
   "outputs": [],
   "source": [
    "raw_uchi = pd.read_csv(\"Thesis-UChicago_April+24,+2024_08.28.csv\")"
   ]
  },
  {
   "cell_type": "code",
   "execution_count": 6,
   "metadata": {},
   "outputs": [],
   "source": [
    "raw = raw.drop([0,1])\n"
   ]
  },
  {
   "cell_type": "code",
   "execution_count": 7,
   "metadata": {},
   "outputs": [],
   "source": [
    "raw = raw.drop([27, 56])"
   ]
  },
  {
   "cell_type": "code",
   "execution_count": 8,
   "metadata": {},
   "outputs": [],
   "source": [
    "raw = raw.iloc[:-1]"
   ]
  },
  {
   "cell_type": "code",
   "execution_count": 9,
   "metadata": {},
   "outputs": [],
   "source": [
    "raw_uchi = raw_uchi.drop([0,1])"
   ]
  },
  {
   "cell_type": "code",
   "execution_count": 10,
   "metadata": {},
   "outputs": [],
   "source": [
    "raw_uchi_num = raw_uchi_num.drop([0,1])"
   ]
  },
  {
   "cell_type": "code",
   "execution_count": 11,
   "metadata": {},
   "outputs": [],
   "source": [
    "raw_num = raw_num.drop([0,1])"
   ]
  },
  {
   "cell_type": "code",
   "execution_count": 12,
   "metadata": {},
   "outputs": [],
   "source": [
    "raw_num = raw_num.iloc[:-1]"
   ]
  },
  {
   "cell_type": "code",
   "execution_count": 13,
   "metadata": {},
   "outputs": [],
   "source": [
    "raw_num = raw_num.drop([27, 56])"
   ]
  },
  {
   "cell_type": "code",
   "execution_count": 12,
   "metadata": {},
   "outputs": [
    {
     "name": "stdout",
     "output_type": "stream",
     "text": [
      "['StartDate', 'EndDate', 'Status', 'IPAddress', 'Progress', 'Duration (in seconds)', 'Finished', 'RecordedDate', 'ResponseId', 'RecipientLastName', 'RecipientFirstName', 'RecipientEmail', 'ExternalReference', 'LocationLatitude', 'LocationLongitude', 'DistributionChannel', 'UserLanguage', 'QID1', 'Q3', 'Q4', 'Q9', 'Q47', 'Q5', 'Q6', 'Q7', 'Q46', 'QID14_1', 'QID14_2', 'QID14_3', 'QID14_4', 'QID14_5', 'QID14_6', 'QID14_7', 'QID14_8', 'QID14_9', 'QID14_10', 'QID14_11', 'QID14_12', 'QID14_13', 'QID14_14', 'QID14_15', 'QID14_16', 'QID14_17', 'Q301_First Click', 'Q301_Last Click', 'Q301_Page Submit', 'Q301_Click Count', '1', 'Q302_First Click', 'Q302_Last Click', 'Q302_Page Submit', 'Q302_Click Count', '2', 'Q303_First Click', 'Q303_Last Click', 'Q303_Page Submit', 'Q303_Click Count', '3', 'Q304_First Click', 'Q304_Last Click', 'Q304_Page Submit', 'Q304_Click Count', '4', 'Q305_First Click', 'Q305_Last Click', 'Q305_Page Submit', 'Q305_Click Count', '5', 'Q142_First Click', 'Q142_Last Click', 'Q142_Page Submit', 'Q142_Click Count', 'Q306_First Click', 'Q306_Last Click', 'Q306_Page Submit', 'Q306_Click Count', '6', 'Q307_First Click', 'Q307_Last Click', 'Q307_Page Submit', 'Q307_Click Count', '7', 'Q308_First Click', 'Q308_Last Click', 'Q308_Page Submit', 'Q308_Click Count', '8', 'Q309_First Click', 'Q309_Last Click', 'Q309_Page Submit', 'Q309_Click Count', '9', 'Q310_First Click', 'Q310_Last Click', 'Q310_Page Submit', 'Q310_Click Count', '10', '5A5B-1', 'Q234_First Click', 'Q234_Last Click', 'Q234_Page Submit', 'Q234_Click Count', '6A4B-1', 'Q235_First Click', 'Q235_Last Click', 'Q235_Page Submit', 'Q235_Click Count', '7A3B-1', 'Q236_First Click', 'Q236_Last Click', 'Q236_Page Submit', 'Q236_Click Count', 'Q237_First Click', 'Q237_Last Click', 'Q237_Page Submit', 'Q237_Click Count', '8A2B-1', 'Q238_First Click', 'Q238_Last Click', 'Q238_Page Submit', 'Q238_Click Count', '10A0B-1', 'Q239_First Click', 'Q239_Last Click', 'Q239_Page Submit', 'Q239_Click Count', '6A4B-2', 'Q240_First Click', 'Q240_Last Click', 'Q240_Page Submit', 'Q240_Click Count', 'F7A3B-2', 'Q241_First Click', 'Q241_Last Click', 'Q241_Page Submit', 'Q241_Click Count', 'F5A5B-3', 'Q242_First Click', 'Q242_Last Click', 'Q242_Page Submit', 'Q242_Click Count', '5A5B-2', 'Q243_First Click', 'Q243_Last Click', 'Q243_Page Submit', 'Q243_Click Count', '4A6B-2', 'Q244_First Click', 'Q244_Last Click', 'Q244_Page Submit', 'Q244_Click Count', 'F3A7B-2', 'Q245_First Click', 'Q245_Last Click', 'Q245_Page Submit', 'Q245_Click Count', '5A5B-3', 'Q246_First Click', 'Q246_Last Click', 'Q246_Page Submit', 'Q246_Click Count', 'F6A4B-3', 'Q247_First Click', 'Q247_Last Click', 'Q247_Page Submit', 'Q247_Click Count', 'F4A6B-3', 'Q248_First Click', 'Q248_Last Click', 'Q248_Page Submit', 'Q248_Click Count', 'F5A5B-4', 'Q249_First Click', 'Q249_Last Click', 'Q249_Page Submit', 'Q249_Click Count', '4A6B-1', 'Q250_First Click', 'Q250_Last Click', 'Q250_Page Submit', 'Q250_Click Count', '3A7B-1', 'Q251_First Click', 'Q251_Last Click', 'Q251_Page Submit', 'Q251_Click Count', '2A8B-1', 'Q252_First Click', 'Q252_Last Click', 'Q252_Page Submit', 'Q252_Click Count', '0A10B-1', 'Q253_First Click', 'Q253_Last Click', 'Q253_Page Submit', 'Q253_Click Count', '7A3B-2', 'Q254_First Click', 'Q254_Last Click', 'Q254_Page Submit', 'Q254_Click Count', '3A7B-2', 'Q255_First Click', 'Q255_Last Click', 'Q255_Page Submit', 'Q255_Click Count', '6A4B-3', 'Q256_First Click', 'Q256_Last Click', 'Q256_Page Submit', 'Q256_Click Count', 'F7A3B-3', 'Q257_First Click', 'Q257_Last Click', 'Q257_Page Submit', 'Q257_Click Count', '4A6B-3', 'Q258_First Click', 'Q258_Last Click', 'Q258_Page Submit', 'Q258_Click Count', 'F3A7B-3', 'Q259_First Click', 'Q259_Last Click', 'Q259_Page Submit', 'Q259_Click Count', '5A5B-4', 'Q260_First Click', 'Q260_Last Click', 'Q260_Page Submit', 'Q260_Click Count', 'F6A4B-4', 'Q261_First Click', 'Q261_Last Click', 'Q261_Page Submit', 'Q261_Click Count', 'F4A6B-4', 'Q262_First Click', 'Q262_Last Click', 'Q262_Page Submit', 'Q262_Click Count', 'F5A5B-5', 'Q141_First Click', 'Q141_Last Click', 'Q141_Page Submit', 'Q141_Click Count', 'Q263_First Click', 'Q263_Last Click', 'Q263_Page Submit', 'Q263_Click Count', '2.1', 'Q311_First Click', 'Q311_Last Click', 'Q311_Page Submit', 'Q311_Click Count', '3.1', 'Q312_First Click', 'Q312_Last Click', 'Q312_Page Submit', 'Q312_Click Count', '4.1', 'Q313_First Click', 'Q313_Last Click', 'Q313_Page Submit', 'Q313_Click Count', '5.1', 'Q314_First Click', 'Q314_Last Click', 'Q314_Page Submit', 'Q314_Click Count', '6.1', 'Q264_First Click', 'Q264_Last Click', 'Q264_Page Submit', 'Q264_Click Count', '2.2', 'Q319_First Click', 'Q319_Last Click', 'Q319_Page Submit', 'Q319_Click Count', '3.2', 'Q320_First Click', 'Q320_Last Click', 'Q320_Page Submit', 'Q320_Click Count', '4.2', 'Q321_First Click', 'Q321_Last Click', 'Q321_Page Submit', 'Q321_Click Count', '5.2', 'Q322_First Click', 'Q322_Last Click', 'Q322_Page Submit', 'Q322_Click Count', '6.2', 'Q265_First Click', 'Q265_Last Click', 'Q265_Page Submit', 'Q265_Click Count', '3.3', 'Q315_First Click', 'Q315_Last Click', 'Q315_Page Submit', 'Q315_Click Count', '4.3', 'Q316_First Click', 'Q316_Last Click', 'Q316_Page Submit', 'Q316_Click Count', '5.3', 'Q317_First Click', 'Q317_Last Click', 'Q317_Page Submit', 'Q317_Click Count', '6.3', 'Q266_First Click', 'Q266_Last Click', 'Q266_Page Submit', 'Q266_Click Count', '6A4B-4', 'Q267_First Click', 'Q267_Last Click', 'Q267_Page Submit', 'Q267_Click Count', '7A3B-4', 'Q268_First Click', 'Q268_Last Click', 'Q268_Page Submit', 'Q268_Click Count', '5.4', 'Q318_First Click', 'Q318_Last Click', 'Q318_Page Submit', 'Q318_Click Count', '6.4', 'Q269_First Click', 'Q269_Last Click', 'Q269_Page Submit', 'Q269_Click Count', '6A4B-5', 'Q270_First Click', 'Q270_Last Click', 'Q270_Page Submit', 'Q270_Click Count', '7A3B-5', 'Q271_First Click', 'Q271_Last Click', 'Q271_Page Submit', 'Q271_Click Count', '6A4B-6', 'Q272_First Click', 'Q272_Last Click', 'Q272_Page Submit', 'Q272_Click Count', '5A5B-6', 'Q273_First Click', 'Q273_Last Click', 'Q273_Page Submit', 'Q273_Click Count', '4A6B-6', 'Q274_First Click', 'Q274_Last Click', 'Q274_Page Submit', 'Q274_Click Count', '5A5B-7', 'Q275_First Click', 'Q275_Last Click', 'Q275_Page Submit', 'Q275_Click Count', '5A5B-5', 'Q276_First Click', 'Q276_Last Click', 'Q276_Page Submit', 'Q276_Click Count', '4A6B-5', 'Q277_First Click', 'Q277_Last Click', 'Q277_Page Submit', 'Q277_Click Count', '3A7B-5', 'Q278_First Click', 'Q278_Last Click', 'Q278_Page Submit', 'Q278_Click Count', '7A3B-6', 'Q279_First Click', 'Q279_Last Click', 'Q279_Page Submit', 'Q279_Click Count', '3A7B-6', 'Q280_First Click', 'Q280_Last Click', 'Q280_Page Submit', 'Q280_Click Count', '6A4B-7', 'Q281_First Click', 'Q281_Last Click', 'Q281_Page Submit', 'Q281_Click Count', '4A6B-7', 'Q282_First Click', 'Q282_Last Click', 'Q282_Page Submit', 'Q282_Click Count', '5A5B-8', 'Q283_First Click', 'Q283_Last Click', 'Q283_Page Submit', 'Q283_Click Count', '4.4', 'Q326_First Click', 'Q326_Last Click', 'Q326_Page Submit', 'Q326_Click Count', '5.5', 'Q327_First Click', 'Q327_Last Click', 'Q327_Page Submit', 'Q327_Click Count', '6.5', 'Q284_First Click', 'Q284_Last Click', 'Q284_Page Submit', 'Q284_Click Count', '5.6', 'Q323_First Click', 'Q323_Last Click', 'Q323_Page Submit', 'Q323_Click Count', '6.6', 'Q285_First Click', 'Q285_Last Click', 'Q285_Page Submit', 'Q285_Click Count', '5A5B-9', 'Q286_First Click', 'Q286_Last Click', 'Q286_Page Submit', 'Q286_Click Count', '6A4B-8', 'Q287_First Click', 'Q287_Last Click', 'Q287_Page Submit', 'Q287_Click Count', '4A6B-8', 'Q288_First Click', 'Q288_Last Click', 'Q288_Page Submit', 'Q288_Click Count', '7A3B-7', 'Q289_First Click', 'Q289_Last Click', 'Q289_Page Submit', 'Q289_Click Count', '3A7B-7', 'Q290_First Click', 'Q290_Last Click', 'Q290_Page Submit', 'Q290_Click Count', '5A5B-10', 'Q291_First Click', 'Q291_Last Click', 'Q291_Page Submit', 'Q291_Click Count', '6A4B-9', 'Q292_First Click', 'Q292_Last Click', 'Q292_Page Submit', 'Q292_Click Count', '4A6B-9', 'Q293_First Click', 'Q293_Last Click', 'Q293_Page Submit', 'Q293_Click Count', '7A3B-8', 'Q294_First Click', 'Q294_Last Click', 'Q294_Page Submit', 'Q294_Click Count', '3A7B-8', 'Q295_First Click', 'Q295_Last Click', 'Q295_Page Submit', 'Q295_Click Count', '3A7B-4', 'Q296_First Click', 'Q296_Last Click', 'Q296_Page Submit', 'Q296_Click Count', '4.5', 'Q324_First Click', 'Q324_Last Click', 'Q324_Page Submit', 'Q324_Click Count', '5.7', 'Q325_First Click', 'Q325_Last Click', 'Q325_Page Submit', 'Q325_Click Count', '6.7', 'Q297_First Click', 'Q297_Last Click', 'Q297_Page Submit', 'Q297_Click Count', '3.4', 'Q328_First Click', 'Q328_Last Click', 'Q328_Page Submit', 'Q328_Click Count', '4.6', 'Q329_First Click', 'Q329_Last Click', 'Q329_Page Submit', 'Q329_Click Count', '5.8', 'Q330_First Click', 'Q330_Last Click', 'Q330_Page Submit', 'Q330_Click Count', '6.8', 'Q298_First Click', 'Q298_Last Click', 'Q298_Page Submit', 'Q298_Click Count', '4A6B-4', 'Engagement', 'Consensus_1', 'Q300_First Click', 'Q300_Last Click', 'Q300_Page Submit', 'Q300_Click Count', 'anti- daughter 1_1', 'anti- daughter 2_1', 'anti- daughter 3_1', 'anti- job 1_1', 'anti- job 2_1', 'anti- job 3_1', 'anti- injury 1_1', 'anti- injury 2_1', 'anti- injury 3_1', 'Q299_First Click', 'Q299_Last Click', 'Q299_Page Submit', 'Q299_Click Count', 'pro- daughter 1_1', 'pro- daughter 2_1', 'pro- daughter 3_1', 'pro- job 1_1', 'pro- job 2_1', 'pro- job 3_1', 'pro- injury 1_1', 'pro- injury 2_1', 'pro- injury 3_1', 'Q222', 'Q227', 'Q227_4_TEXT', 'Q228', 'Q219', 'Q223', 'Q223_8_TEXT', 'Q224', 'Q225', 'Q225_4_TEXT', 'Q226', 'Q230', 'Q233', 'SC0', 'SC1', 'SC2', 'SC3', 'SC4', 'SC5', 'SC6', 'SC7', 'SC8', 'SC9', 'SC10', 'SC11', 'SC12', 'SC13', 'SC14', 'SC15', 'SC16', 'SC17', 'SC18', 'SC19', 'SC20', 'SC21', 'SC22', 'SC23', 'SC24', 'SC25', 'SC26', 'SC27', 'SC28', 'SC29', 'SC30', 'SC31', 'SC32', 'SC33', 'SC34', 'SC35', 'SC36', 'SC37', 'SC38', 'SC39', 'SC40', 'SC41', 'SC42', 'SC43', 'SC44', 'SC45', 'SC46', 'SC47', 'SC48', 'SC49', 'SC50', 'SC51', 'SC52', 'SC53', 'SC54', 'SC55', 'SC56', 'SC57', 'SC58', 'SC59', 'SC60', 'SC61', 'SC62', 'SC63', 'SC64', 'abortion attitude score', 'EC', 'PT', 'EE', '5a5b-1', '6a4b-1', '7a3b-1', '6a4b-2', '5a5b-2', '4a6b-2', '5a5b-3', '4a6b-1', '3a7b-1', '7a3b-2', '3a7b-2', '6a4b-3', '4a6b-3', '5a5b-4', 'f7a3b-2', 'f7a3b-3', '6a4b-4', '7a3b-4', '6a4b-5', '7a3b-5', '5a5b-6', '5a5b-5', '4a6b-5', '3a7b-5', '6a4b-6', '4a6b-6', '5a5b-7', 'f6a4b-3', 'f6a4b-4', '3a7b-6', '7a3b-6', '5a5b-8', '6a4b-7', '4a6b-7', 'f5a5b-4', 'f5a5b-3', 'f5a5b-5', '5a5b-9', '6a4b-8', '4a6b-8', '7a3b-7', '3a7b-7', 'f4a6b-3', 'f4a6b-4', '3a7b-4', 'f3a7b-2', 'f3a7b-3', '4a6b-4']\n"
     ]
    }
   ],
   "source": [
    "column_names = list(raw.columns)\n",
    "print(column_names)"
   ]
  },
  {
   "cell_type": "markdown",
   "metadata": {},
   "source": [
    "- matching the timing block question number with tweets block"
   ]
  },
  {
   "cell_type": "code",
   "execution_count": 14,
   "metadata": {},
   "outputs": [],
   "source": [
    "# group indicator, 0 control, 1 rec\n",
    "raw['group'] = raw['Q303_Page Submit'].isnull().astype(int)\n",
    "raw_num['group'] = raw_num['Q303_Page Submit'].isnull().astype(int)"
   ]
  },
  {
   "cell_type": "code",
   "execution_count": 15,
   "metadata": {},
   "outputs": [],
   "source": [
    "# group indicator, 0 control, 1 rec\n",
    "raw_uchi['group'] = raw_uchi['Q303_Page Submit'].isnull().astype(int)\n",
    "raw_uchi_num['group'] = raw_uchi_num['Q303_Page Submit'].isnull().astype(int)"
   ]
  },
  {
   "cell_type": "code",
   "execution_count": 22,
   "metadata": {},
   "outputs": [
    {
     "data": {
      "text/plain": [
       "56"
      ]
     },
     "execution_count": 22,
     "metadata": {},
     "output_type": "execute_result"
    }
   ],
   "source": [
    "sum(raw[\"group\"])"
   ]
  },
  {
   "cell_type": "code",
   "execution_count": 243,
   "metadata": {},
   "outputs": [
    {
     "data": {
      "text/plain": [
       "7"
      ]
     },
     "execution_count": 243,
     "metadata": {},
     "output_type": "execute_result"
    }
   ],
   "source": [
    "sum(raw_uchi[\"group\"])"
   ]
  },
  {
   "cell_type": "markdown",
   "metadata": {},
   "source": [
    "set profile indicators"
   ]
  },
  {
   "cell_type": "code",
   "execution_count": 16,
   "metadata": {},
   "outputs": [],
   "source": [
    "raw['anti-profile'] = raw['anti- daughter 1_1'].notnull().astype(int)\n",
    "raw_num['anti-profile'] = raw_num['anti- daughter 1_1'].notnull().astype(int)"
   ]
  },
  {
   "cell_type": "code",
   "execution_count": 17,
   "metadata": {},
   "outputs": [],
   "source": [
    "raw_uchi['anti-profile'] = raw_uchi['anti- daughter 1_1'].notnull().astype(int)\n",
    "raw_uchi_num['anti-profile'] = raw_uchi_num['anti- daughter 1_1'].notnull().astype(int)"
   ]
  },
  {
   "cell_type": "code",
   "execution_count": 18,
   "metadata": {},
   "outputs": [],
   "source": [
    "raw['pro-profile'] = raw['pro- daughter 1_1'].notnull().astype(int)\n",
    "raw_num['pro-profile'] = raw_num['pro- daughter 1_1'].notnull().astype(int)"
   ]
  },
  {
   "cell_type": "code",
   "execution_count": 19,
   "metadata": {},
   "outputs": [],
   "source": [
    "raw_uchi['pro-profile'] = raw_uchi['pro- daughter 1_1'].notnull().astype(int)\n",
    "raw_uchi_num['pro-profile'] = raw_uchi_num['pro- daughter 1_1'].notnull().astype(int)"
   ]
  },
  {
   "cell_type": "markdown",
   "metadata": {},
   "source": [
    "general abortion attitude"
   ]
  },
  {
   "cell_type": "code",
   "execution_count": 20,
   "metadata": {},
   "outputs": [],
   "source": [
    "raw_num['gen_att'] = -1 * raw_num['Q46'].astype(int) + 4"
   ]
  },
  {
   "cell_type": "code",
   "execution_count": 21,
   "metadata": {},
   "outputs": [],
   "source": [
    "raw_uchi_num['gen_att'] = -1 * raw_uchi_num['Q46'].astype(int) + 4"
   ]
  },
  {
   "cell_type": "code",
   "execution_count": 63,
   "metadata": {},
   "outputs": [
    {
     "data": {
      "text/plain": [
       "2     3\n",
       "3     3\n",
       "4     3\n",
       "5     3\n",
       "6     0\n",
       "     ..\n",
       "58    3\n",
       "59    3\n",
       "60    3\n",
       "61    2\n",
       "62   -1\n",
       "Name: gen_att, Length: 61, dtype: int64"
      ]
     },
     "execution_count": 63,
     "metadata": {},
     "output_type": "execute_result"
    }
   ],
   "source": [
    "raw_num['gen_att']"
   ]
  },
  {
   "cell_type": "code",
   "execution_count": 26,
   "metadata": {},
   "outputs": [
    {
     "data": {
      "text/plain": [
       "count    102.000000\n",
       "mean       0.990196\n",
       "std        2.381842\n",
       "min       -3.000000\n",
       "25%       -1.750000\n",
       "50%        2.000000\n",
       "75%        3.000000\n",
       "max        3.000000\n",
       "Name: gen_att, dtype: float64"
      ]
     },
     "execution_count": 26,
     "metadata": {},
     "output_type": "execute_result"
    }
   ],
   "source": [
    "raw_num['gen_att'].describe()"
   ]
  },
  {
   "cell_type": "code",
   "execution_count": 27,
   "metadata": {},
   "outputs": [
    {
     "data": {
      "text/plain": [
       "gen_att\n",
       " 3    47\n",
       " 2    15\n",
       "-3    15\n",
       "-2    11\n",
       "-1     7\n",
       " 1     4\n",
       " 0     3\n",
       "Name: count, dtype: int64"
      ]
     },
     "execution_count": 27,
     "metadata": {},
     "output_type": "execute_result"
    }
   ],
   "source": [
    "raw_num['gen_att'].value_counts()"
   ]
  },
  {
   "cell_type": "code",
   "execution_count": 22,
   "metadata": {},
   "outputs": [],
   "source": [
    "raw_num[\"detail_att\"] = raw_num[\"abortion attitude score\"].astype(int) / 7"
   ]
  },
  {
   "cell_type": "code",
   "execution_count": 23,
   "metadata": {},
   "outputs": [],
   "source": [
    "raw_uchi_num[\"detail_att\"] = raw_uchi_num[\"abortion attitude score\"].astype(int) / 7"
   ]
  },
  {
   "cell_type": "code",
   "execution_count": 29,
   "metadata": {},
   "outputs": [
    {
     "data": {
      "text/plain": [
       "count    102.000000\n",
       "mean       1.532213\n",
       "std        0.705077\n",
       "min        1.000000\n",
       "25%        1.000000\n",
       "50%        1.142857\n",
       "75%        1.857143\n",
       "max        3.142857\n",
       "Name: detail_att, dtype: float64"
      ]
     },
     "execution_count": 29,
     "metadata": {},
     "output_type": "execute_result"
    }
   ],
   "source": [
    "raw_num[\"detail_att\"].describe()"
   ]
  },
  {
   "cell_type": "code",
   "execution_count": 158,
   "metadata": {},
   "outputs": [
    {
     "data": {
      "text/plain": [
       "3     2.714286\n",
       "11    1.714286\n",
       "24    2.428571\n",
       "Name: detail_att, dtype: float64"
      ]
     },
     "execution_count": 158,
     "metadata": {},
     "output_type": "execute_result"
    }
   ],
   "source": [
    "raw_uchi_num[raw_uchi_num[\"gen_att\"] == -3][\"detail_att\"]"
   ]
  },
  {
   "cell_type": "code",
   "execution_count": 36,
   "metadata": {},
   "outputs": [
    {
     "data": {
      "text/plain": [
       "36     2.428571\n",
       "37     1.714286\n",
       "40     3.142857\n",
       "47     3.142857\n",
       "53     2.571429\n",
       "63     3.142857\n",
       "64     2.714286\n",
       "65     3.142857\n",
       "67     3.142857\n",
       "82     3.142857\n",
       "84     2.285714\n",
       "94     2.428571\n",
       "98     3.000000\n",
       "101    2.571429\n",
       "103    2.714286\n",
       "Name: detail_att, dtype: float64"
      ]
     },
     "execution_count": 36,
     "metadata": {},
     "output_type": "execute_result"
    }
   ],
   "source": [
    "raw_num[raw_num[\"gen_att\"] == -3][\"detail_att\"]"
   ]
  },
  {
   "cell_type": "code",
   "execution_count": 139,
   "metadata": {},
   "outputs": [
    {
     "data": {
      "text/plain": [
       "8     1.142857\n",
       "39    1.571429\n",
       "44    2.000000\n",
       "50    1.142857\n",
       "Name: detail_att, dtype: float64"
      ]
     },
     "execution_count": 139,
     "metadata": {},
     "output_type": "execute_result"
    }
   ],
   "source": [
    "raw_num[raw_num[\"gen_att\"] == 1][\"detail_att\"]"
   ]
  },
  {
   "cell_type": "code",
   "execution_count": 141,
   "metadata": {},
   "outputs": [
    {
     "data": {
      "text/plain": [
       "36    2.428571\n",
       "37    1.714286\n",
       "40    3.142857\n",
       "47    3.142857\n",
       "53    2.571429\n",
       "Name: detail_att, dtype: float64"
      ]
     },
     "execution_count": 141,
     "metadata": {},
     "output_type": "execute_result"
    }
   ],
   "source": [
    "raw_num[raw_num[\"gen_att\"] == -3][\"detail_att\"]"
   ]
  },
  {
   "cell_type": "markdown",
   "metadata": {},
   "source": [
    "some mismatch between gen_att and detail_att "
   ]
  },
  {
   "cell_type": "code",
   "execution_count": 24,
   "metadata": {},
   "outputs": [],
   "source": [
    "raw_num['gen_att_bi'] = np.where(raw_num['gen_att'] > 0, 1, np.where(raw_num['gen_att'] < 0, -1, 0))"
   ]
  },
  {
   "cell_type": "code",
   "execution_count": 25,
   "metadata": {},
   "outputs": [],
   "source": [
    "raw_num['detail_att_bi'] = np.where(raw_num['detail_att'] < 2, 1, np.where(raw_num['detail_att'] > 15 / 7, -1, 0))"
   ]
  },
  {
   "cell_type": "code",
   "execution_count": 26,
   "metadata": {},
   "outputs": [],
   "source": [
    "raw_uchi_num['gen_att_bi'] = np.where(raw_uchi_num['gen_att'] > 0, 1, np.where(raw_uchi_num['gen_att'] < 0, -1, 0))"
   ]
  },
  {
   "cell_type": "code",
   "execution_count": 27,
   "metadata": {},
   "outputs": [],
   "source": [
    "raw_uchi_num['detail_att_bi'] = np.where(raw_uchi_num['detail_att'] < 2, 1, np.where(raw_uchi_num['detail_att'] > 15 / 7, -1, 0))"
   ]
  },
  {
   "cell_type": "code",
   "execution_count": 145,
   "metadata": {},
   "outputs": [
    {
     "data": {
      "text/html": [
       "<div>\n",
       "<style scoped>\n",
       "    .dataframe tbody tr th:only-of-type {\n",
       "        vertical-align: middle;\n",
       "    }\n",
       "\n",
       "    .dataframe tbody tr th {\n",
       "        vertical-align: top;\n",
       "    }\n",
       "\n",
       "    .dataframe thead th {\n",
       "        text-align: right;\n",
       "    }\n",
       "</style>\n",
       "<table border=\"1\" class=\"dataframe\">\n",
       "  <thead>\n",
       "    <tr style=\"text-align: right;\">\n",
       "      <th>gen_att_bi</th>\n",
       "      <th>-1</th>\n",
       "      <th>0</th>\n",
       "      <th>1</th>\n",
       "    </tr>\n",
       "    <tr>\n",
       "      <th>group</th>\n",
       "      <th></th>\n",
       "      <th></th>\n",
       "      <th></th>\n",
       "    </tr>\n",
       "  </thead>\n",
       "  <tbody>\n",
       "    <tr>\n",
       "      <th>0</th>\n",
       "      <td>9</td>\n",
       "      <td>2</td>\n",
       "      <td>24</td>\n",
       "    </tr>\n",
       "    <tr>\n",
       "      <th>1</th>\n",
       "      <td>7</td>\n",
       "      <td>1</td>\n",
       "      <td>18</td>\n",
       "    </tr>\n",
       "  </tbody>\n",
       "</table>\n",
       "</div>"
      ],
      "text/plain": [
       "gen_att_bi  -1   0   1\n",
       "group                 \n",
       "0            9   2  24\n",
       "1            7   1  18"
      ]
     },
     "execution_count": 145,
     "metadata": {},
     "output_type": "execute_result"
    }
   ],
   "source": [
    "raw_num.groupby('group')['gen_att_bi'].value_counts().unstack(fill_value=0)"
   ]
  },
  {
   "cell_type": "code",
   "execution_count": 150,
   "metadata": {},
   "outputs": [
    {
     "data": {
      "text/html": [
       "<div>\n",
       "<style scoped>\n",
       "    .dataframe tbody tr th:only-of-type {\n",
       "        vertical-align: middle;\n",
       "    }\n",
       "\n",
       "    .dataframe tbody tr th {\n",
       "        vertical-align: top;\n",
       "    }\n",
       "\n",
       "    .dataframe thead th {\n",
       "        text-align: right;\n",
       "    }\n",
       "</style>\n",
       "<table border=\"1\" class=\"dataframe\">\n",
       "  <thead>\n",
       "    <tr style=\"text-align: right;\">\n",
       "      <th></th>\n",
       "      <th>gen_att_bi</th>\n",
       "      <th>-1</th>\n",
       "      <th>0</th>\n",
       "      <th>1</th>\n",
       "    </tr>\n",
       "    <tr>\n",
       "      <th>group</th>\n",
       "      <th>anti-profile</th>\n",
       "      <th></th>\n",
       "      <th></th>\n",
       "      <th></th>\n",
       "    </tr>\n",
       "  </thead>\n",
       "  <tbody>\n",
       "    <tr>\n",
       "      <th rowspan=\"2\" valign=\"top\">0</th>\n",
       "      <th>0</th>\n",
       "      <td>3</td>\n",
       "      <td>2</td>\n",
       "      <td>13</td>\n",
       "    </tr>\n",
       "    <tr>\n",
       "      <th>1</th>\n",
       "      <td>6</td>\n",
       "      <td>0</td>\n",
       "      <td>11</td>\n",
       "    </tr>\n",
       "    <tr>\n",
       "      <th rowspan=\"2\" valign=\"top\">1</th>\n",
       "      <th>0</th>\n",
       "      <td>3</td>\n",
       "      <td>0</td>\n",
       "      <td>9</td>\n",
       "    </tr>\n",
       "    <tr>\n",
       "      <th>1</th>\n",
       "      <td>4</td>\n",
       "      <td>1</td>\n",
       "      <td>9</td>\n",
       "    </tr>\n",
       "  </tbody>\n",
       "</table>\n",
       "</div>"
      ],
      "text/plain": [
       "gen_att_bi          -1   0   1\n",
       "group anti-profile            \n",
       "0     0              3   2  13\n",
       "      1              6   0  11\n",
       "1     0              3   0   9\n",
       "      1              4   1   9"
      ]
     },
     "execution_count": 150,
     "metadata": {},
     "output_type": "execute_result"
    }
   ],
   "source": [
    "raw_num.groupby(['group','anti-profile'])['gen_att_bi'].value_counts().unstack(fill_value=0)"
   ]
  },
  {
   "cell_type": "code",
   "execution_count": 28,
   "metadata": {},
   "outputs": [],
   "source": [
    "conditions = [\n",
    "    (raw_num['gen_att_bi'] == 1) & (raw_num['anti-profile'] == 0),   # Condition for value 1\n",
    "    (raw_num['gen_att_bi'] == -1) & (raw_num['anti-profile'] == 1)  # Condition for value 1\n",
    "]\n",
    "\n",
    "choices = [1, 1]  # Both conditions result in a value of 1\n",
    "\n",
    "# Create 'profile_align_att' using np.select\n",
    "raw_num['profile_align_att'] = np.select(conditions, choices, default=0)  # Default value is 0\n"
   ]
  },
  {
   "cell_type": "code",
   "execution_count": 29,
   "metadata": {},
   "outputs": [],
   "source": [
    "conditions = [\n",
    "    (raw_uchi_num['gen_att_bi'] == 1) & (raw_uchi_num['anti-profile'] == 0),   # Condition for value 1\n",
    "    (raw_uchi_num['gen_att_bi'] == -1) & (raw_uchi_num['anti-profile'] == 1)  # Condition for value 1\n",
    "]\n",
    "\n",
    "choices = [1, 1]  # Both conditions result in a value of 1\n",
    "\n",
    "# Create 'profile_align_att' using np.select\n",
    "raw_uchi_num['profile_align_att'] = np.select(conditions, choices, default=0)  # Default value is 0\n"
   ]
  },
  {
   "cell_type": "code",
   "execution_count": 30,
   "metadata": {},
   "outputs": [],
   "source": [
    "conditions = [\n",
    "    (raw_num['detail_att'] < 2) & (raw_num['anti-profile'] == 0),   # Condition for value 1\n",
    "    (raw_num['detail_att'] > 15 / 7) & (raw_num['anti-profile'] == 1)  # Condition for value 1\n",
    "]\n",
    "\n",
    "choices = [1, 1]  # Both conditions result in a value of 1\n",
    "\n",
    "# Create 'profile_align_att' using np.select\n",
    "raw_num['profile_align_detail_att'] = np.select(conditions, choices, default=0)  # Default value is 0\n"
   ]
  },
  {
   "cell_type": "code",
   "execution_count": 31,
   "metadata": {},
   "outputs": [],
   "source": [
    "conditions = [\n",
    "    (raw_uchi_num['detail_att'] < 2) & (raw_uchi_num['anti-profile'] == 0),   # Condition for value 1\n",
    "    (raw_uchi_num['detail_att'] > 15 / 7) & (raw_uchi_num['anti-profile'] == 1)  # Condition for value 1\n",
    "]\n",
    "\n",
    "choices = [1, 1]  # Both conditions result in a value of 1\n",
    "\n",
    "# Create 'profile_align_att' using np.select\n",
    "raw_uchi_num['profile_align_detail_att'] = np.select(conditions, choices, default=0)  # Default value is 0\n"
   ]
  },
  {
   "cell_type": "code",
   "execution_count": 40,
   "metadata": {},
   "outputs": [
    {
     "data": {
      "text/plain": [
       "profile_align_att\n",
       "1    54\n",
       "0    48\n",
       "Name: count, dtype: int64"
      ]
     },
     "execution_count": 40,
     "metadata": {},
     "output_type": "execute_result"
    }
   ],
   "source": [
    "raw_num['profile_align_att'].value_counts()"
   ]
  },
  {
   "cell_type": "markdown",
   "metadata": {},
   "source": [
    "combined situational empathy data"
   ]
  },
  {
   "cell_type": "code",
   "execution_count": 32,
   "metadata": {},
   "outputs": [],
   "source": [
    "column_pairs = [\n",
    "    (\"anti- daughter 1_1\", \"pro- daughter 1_1\", \"daughter1\"),\n",
    "    (\"anti- daughter 2_1\", \"pro- daughter 2_1\", \"daughter2\"),\n",
    "    (\"anti- daughter 3_1\", \"pro- daughter 3_1\", \"daughter3\"),\n",
    "    (\"anti- job 1_1\", \"pro- job 1_1\", \"job1\"),\n",
    "    (\"anti- job 2_1\", \"pro- job 2_1\", \"job2\"),\n",
    "    (\"anti- job 3_1\", \"pro- job 3_1\", \"job3\"),\n",
    "    (\"anti- injury 1_1\", \"pro- injury 1_1\", \"injury1\"),\n",
    "    (\"anti- injury 2_1\", \"pro- injury 2_1\", \"injury2\"),\n",
    "    (\"anti- injury 3_1\", \"pro- injury 3_1\", \"injury3\"),\n",
    "]"
   ]
  },
  {
   "cell_type": "code",
   "execution_count": 33,
   "metadata": {},
   "outputs": [],
   "source": [
    "for anti, pro, new_name in column_pairs:\n",
    "    raw_num[new_name] = raw_num[anti].fillna(raw_num[pro]).astype(int)"
   ]
  },
  {
   "cell_type": "code",
   "execution_count": 34,
   "metadata": {},
   "outputs": [],
   "source": [
    "for anti, pro, new_name in column_pairs:\n",
    "    raw_uchi_num[new_name] = raw_uchi_num[anti].fillna(raw_uchi_num[pro]).astype(int)"
   ]
  },
  {
   "cell_type": "code",
   "execution_count": 188,
   "metadata": {},
   "outputs": [
    {
     "data": {
      "text/html": [
       "<div>\n",
       "<style scoped>\n",
       "    .dataframe tbody tr th:only-of-type {\n",
       "        vertical-align: middle;\n",
       "    }\n",
       "\n",
       "    .dataframe tbody tr th {\n",
       "        vertical-align: top;\n",
       "    }\n",
       "\n",
       "    .dataframe thead th {\n",
       "        text-align: right;\n",
       "    }\n",
       "</style>\n",
       "<table border=\"1\" class=\"dataframe\">\n",
       "  <thead>\n",
       "    <tr style=\"text-align: right;\">\n",
       "      <th>group</th>\n",
       "      <th>0</th>\n",
       "      <th>1</th>\n",
       "    </tr>\n",
       "    <tr>\n",
       "      <th>profile_align_att</th>\n",
       "      <th></th>\n",
       "      <th></th>\n",
       "    </tr>\n",
       "  </thead>\n",
       "  <tbody>\n",
       "    <tr>\n",
       "      <th>0</th>\n",
       "      <td>7.5</td>\n",
       "      <td>7.0</td>\n",
       "    </tr>\n",
       "    <tr>\n",
       "      <th>1</th>\n",
       "      <td>9.0</td>\n",
       "      <td>9.0</td>\n",
       "    </tr>\n",
       "  </tbody>\n",
       "</table>\n",
       "</div>"
      ],
      "text/plain": [
       "group                0    1\n",
       "profile_align_att          \n",
       "0                  7.5  7.0\n",
       "1                  9.0  9.0"
      ]
     },
     "execution_count": 188,
     "metadata": {},
     "output_type": "execute_result"
    }
   ],
   "source": [
    "raw_num.groupby(['profile_align_att', 'group'])['injury1'].median().unstack(fill_value=0)"
   ]
  },
  {
   "cell_type": "code",
   "execution_count": 200,
   "metadata": {},
   "outputs": [
    {
     "data": {
      "text/html": [
       "<div>\n",
       "<style scoped>\n",
       "    .dataframe tbody tr th:only-of-type {\n",
       "        vertical-align: middle;\n",
       "    }\n",
       "\n",
       "    .dataframe tbody tr th {\n",
       "        vertical-align: top;\n",
       "    }\n",
       "\n",
       "    .dataframe thead th {\n",
       "        text-align: right;\n",
       "    }\n",
       "</style>\n",
       "<table border=\"1\" class=\"dataframe\">\n",
       "  <thead>\n",
       "    <tr style=\"text-align: right;\">\n",
       "      <th>group</th>\n",
       "      <th>0</th>\n",
       "      <th>1</th>\n",
       "    </tr>\n",
       "    <tr>\n",
       "      <th>profile_align_detail_att</th>\n",
       "      <th></th>\n",
       "      <th></th>\n",
       "    </tr>\n",
       "  </thead>\n",
       "  <tbody>\n",
       "    <tr>\n",
       "      <th>0</th>\n",
       "      <td>7.5</td>\n",
       "      <td>8.0</td>\n",
       "    </tr>\n",
       "    <tr>\n",
       "      <th>1</th>\n",
       "      <td>9.0</td>\n",
       "      <td>9.0</td>\n",
       "    </tr>\n",
       "  </tbody>\n",
       "</table>\n",
       "</div>"
      ],
      "text/plain": [
       "group                       0    1\n",
       "profile_align_detail_att          \n",
       "0                         7.5  8.0\n",
       "1                         9.0  9.0"
      ]
     },
     "execution_count": 200,
     "metadata": {},
     "output_type": "execute_result"
    }
   ],
   "source": [
    "raw_num.groupby(['profile_align_detail_att', 'group'])['injury3'].median().unstack(fill_value=0)"
   ]
  },
  {
   "cell_type": "code",
   "execution_count": 84,
   "metadata": {},
   "outputs": [
    {
     "data": {
      "text/plain": [
       "count    99.000000\n",
       "mean      8.363636\n",
       "std       1.859639\n",
       "min       2.000000\n",
       "25%       7.000000\n",
       "50%       9.000000\n",
       "75%      10.000000\n",
       "max      10.000000\n",
       "Name: daughter1, dtype: float64"
      ]
     },
     "execution_count": 84,
     "metadata": {},
     "output_type": "execute_result"
    }
   ],
   "source": [
    "raw_num[\"daughter1\"].describe()"
   ]
  },
  {
   "cell_type": "markdown",
   "metadata": {},
   "source": [
    "demographics break down"
   ]
  },
  {
   "cell_type": "code",
   "execution_count": 43,
   "metadata": {},
   "outputs": [],
   "source": [
    "combined_age = pd.concat([raw_num[\"Q222\"], raw_uchi_num[\"Q222\"]])"
   ]
  },
  {
   "cell_type": "code",
   "execution_count": 45,
   "metadata": {},
   "outputs": [
    {
     "data": {
      "text/plain": [
       "count    129.000000\n",
       "mean      33.240310\n",
       "std       12.842663\n",
       "min       18.000000\n",
       "25%       20.000000\n",
       "50%       33.000000\n",
       "75%       41.000000\n",
       "max       73.000000\n",
       "Name: Q222, dtype: float64"
      ]
     },
     "execution_count": 45,
     "metadata": {},
     "output_type": "execute_result"
    }
   ],
   "source": [
    "combined_age.astype(int).describe()"
   ]
  },
  {
   "cell_type": "code",
   "execution_count": 47,
   "metadata": {},
   "outputs": [],
   "source": [
    "combined_demo = pd.concat([raw[[\"Q228\", \"Q223\", \"Q225\"]], raw_uchi[[\"Q228\", \"Q223\", \"Q225\"]]])"
   ]
  },
  {
   "cell_type": "code",
   "execution_count": 49,
   "metadata": {},
   "outputs": [],
   "source": [
    "new_colnames = [\"race\", \"religion\", \"political\"]"
   ]
  },
  {
   "cell_type": "code",
   "execution_count": 50,
   "metadata": {},
   "outputs": [],
   "source": [
    "combined_demo.columns = new_colnames"
   ]
  },
  {
   "cell_type": "code",
   "execution_count": 53,
   "metadata": {},
   "outputs": [
    {
     "data": {
      "text/plain": [
       "race\n",
       "White                                              58.59375\n",
       "Asian                                              14.84375\n",
       "Black or African American                          12.50000\n",
       "Prefer not to say                                   3.12500\n",
       "Other                                               3.12500\n",
       "White,Asian                                         2.34375\n",
       "White,Black or African American                     1.56250\n",
       "White,American Indian or Alaska Native              0.78125\n",
       "Black or African American,Other                     0.78125\n",
       "Asian,Other                                         0.78125\n",
       "White,Asian,Native Hawaiian or Pacific Islander     0.78125\n",
       "American Indian or Alaska Native                    0.78125\n",
       "Name: proportion, dtype: float64"
      ]
     },
     "execution_count": 53,
     "metadata": {},
     "output_type": "execute_result"
    }
   ],
   "source": [
    "combined_demo[\"race\"].value_counts(normalize=True) * 100"
   ]
  },
  {
   "cell_type": "code",
   "execution_count": 56,
   "metadata": {},
   "outputs": [
    {
     "data": {
      "text/plain": [
       "7.80625"
      ]
     },
     "execution_count": 56,
     "metadata": {},
     "output_type": "execute_result"
    }
   ],
   "source": [
    "0.78*5+1.56250 +       2.34375"
   ]
  },
  {
   "cell_type": "code",
   "execution_count": 55,
   "metadata": {},
   "outputs": [
    {
     "data": {
      "text/plain": [
       "political\n",
       "Democratic Party     42.635659\n",
       "Independent          26.356589\n",
       "Republican Party     23.255814\n",
       "Prefer not to say     5.426357\n",
       "Other                 2.325581\n",
       "Name: proportion, dtype: float64"
      ]
     },
     "execution_count": 55,
     "metadata": {},
     "output_type": "execute_result"
    }
   ],
   "source": [
    "combined_demo[\"political\"].value_counts(normalize=True) * 100"
   ]
  },
  {
   "cell_type": "code",
   "execution_count": 57,
   "metadata": {},
   "outputs": [
    {
     "data": {
      "text/plain": [
       "religion\n",
       "Christianity         41.085271\n",
       "Agnostic             26.356589\n",
       "Atheist              10.852713\n",
       "Other                 9.302326\n",
       "Prefer not to say     4.651163\n",
       "Judaism               3.875969\n",
       "Buddhism              1.550388\n",
       "Hinduism              1.550388\n",
       "Islam                 0.775194\n",
       "Name: proportion, dtype: float64"
      ]
     },
     "execution_count": 57,
     "metadata": {},
     "output_type": "execute_result"
    }
   ],
   "source": [
    "combined_demo[\"religion\"].value_counts(normalize=True) * 100"
   ]
  },
  {
   "cell_type": "code",
   "execution_count": 58,
   "metadata": {},
   "outputs": [
    {
     "data": {
      "text/plain": [
       "12.403102"
      ]
     },
     "execution_count": 58,
     "metadata": {},
     "output_type": "execute_result"
    }
   ],
   "source": [
    "9.302326 +     1.550388 +  1.550388"
   ]
  },
  {
   "cell_type": "code",
   "execution_count": 62,
   "metadata": {},
   "outputs": [],
   "source": [
    "uchi_edu = pd.DataFrame({\n",
    "    \"Q219\": [\"Some college, but no degree\"] * 30\n",
    "})"
   ]
  },
  {
   "cell_type": "code",
   "execution_count": 63,
   "metadata": {},
   "outputs": [],
   "source": [
    "combined_edu = pd.concat([raw[\"Q219\"], uchi_edu[\"Q219\"]])"
   ]
  },
  {
   "cell_type": "code",
   "execution_count": 64,
   "metadata": {},
   "outputs": [
    {
     "data": {
      "text/plain": [
       "Q219\n",
       "Some college, but no degree                                             39.534884\n",
       "Bachelor’s degree                                                       30.232558\n",
       "High school diploma or GED                                              11.627907\n",
       "Associates or technical degree                                          10.077519\n",
       "Graduate or professional degree (MA, MS, MBA, PhD, JD, MD, DDS etc.)     8.527132\n",
       "Name: proportion, dtype: float64"
      ]
     },
     "execution_count": 64,
     "metadata": {},
     "output_type": "execute_result"
    }
   ],
   "source": [
    "combined_edu.value_counts(normalize=True) * 100"
   ]
  },
  {
   "cell_type": "code",
   "execution_count": 69,
   "metadata": {},
   "outputs": [],
   "source": [
    "combined_att = pd.concat([raw_num[\"detail_att_bi\"], raw_uchi_num[\"detail_att_bi\"]])"
   ]
  },
  {
   "cell_type": "code",
   "execution_count": 67,
   "metadata": {},
   "outputs": [],
   "source": [
    "combined_att = pd.concat([raw_num[\"gen_att_bi\"], raw_uchi_num[\"gen_att_bi\"]])"
   ]
  },
  {
   "cell_type": "code",
   "execution_count": 70,
   "metadata": {},
   "outputs": [
    {
     "data": {
      "text/plain": [
       "detail_att_bi\n",
       " 1    77.519380\n",
       "-1    19.379845\n",
       " 0     3.100775\n",
       "Name: proportion, dtype: float64"
      ]
     },
     "execution_count": 70,
     "metadata": {},
     "output_type": "execute_result"
    }
   ],
   "source": [
    "combined_att.value_counts(normalize=True) * 100"
   ]
  },
  {
   "cell_type": "markdown",
   "metadata": {},
   "source": [
    "end with 10a0b/0a10b"
   ]
  },
  {
   "cell_type": "code",
   "execution_count": 35,
   "metadata": {},
   "outputs": [
    {
     "data": {
      "text/plain": [
       "28"
      ]
     },
     "execution_count": 35,
     "metadata": {},
     "output_type": "execute_result"
    }
   ],
   "source": [
    "sum(raw_num[\"10A0B-1\"].notnull())"
   ]
  },
  {
   "cell_type": "code",
   "execution_count": 71,
   "metadata": {},
   "outputs": [],
   "source": [
    "raw_num[\"10A0B-1\"] = raw_num[\"10A0B-1\"].notnull().astype(int)"
   ]
  },
  {
   "cell_type": "code",
   "execution_count": 72,
   "metadata": {},
   "outputs": [],
   "source": [
    "raw_uchi_num[\"10A0B-1\"] = raw_uchi_num[\"10A0B-1\"].notnull().astype(int)"
   ]
  },
  {
   "cell_type": "code",
   "execution_count": 73,
   "metadata": {},
   "outputs": [],
   "source": [
    "raw_num[\"0A10B-1\"] = raw_num[\"0A10B-1\"].notnull().astype(int)"
   ]
  },
  {
   "cell_type": "code",
   "execution_count": 89,
   "metadata": {},
   "outputs": [
    {
     "data": {
      "text/plain": [
       "3a7b-5\n",
       "-1    1\n",
       "Name: count, dtype: int64"
      ]
     },
     "execution_count": 89,
     "metadata": {},
     "output_type": "execute_result"
    }
   ],
   "source": [
    "raw_num[\"3a7b-5\"].value_counts()"
   ]
  },
  {
   "cell_type": "code",
   "execution_count": 88,
   "metadata": {},
   "outputs": [
    {
     "data": {
      "text/plain": [
       "Series([], Name: count, dtype: int64)"
      ]
     },
     "execution_count": 88,
     "metadata": {},
     "output_type": "execute_result"
    }
   ],
   "source": [
    "raw_uchi_num[\"3a7b-5\"].value_counts()"
   ]
  },
  {
   "cell_type": "code",
   "execution_count": 100,
   "metadata": {},
   "outputs": [
    {
     "data": {
      "text/plain": [
       "2A8B-1\n",
       "5,6,7,9             1\n",
       "3,4,5,6,7,8,9,10    1\n",
       "Name: count, dtype: int64"
      ]
     },
     "execution_count": 100,
     "metadata": {},
     "output_type": "execute_result"
    }
   ],
   "source": [
    "raw_uchi_num[\"2A8B-1\"].value_counts()"
   ]
  },
  {
   "cell_type": "code",
   "execution_count": 86,
   "metadata": {},
   "outputs": [
    {
     "data": {
      "text/html": [
       "<div>\n",
       "<style scoped>\n",
       "    .dataframe tbody tr th:only-of-type {\n",
       "        vertical-align: middle;\n",
       "    }\n",
       "\n",
       "    .dataframe tbody tr th {\n",
       "        vertical-align: top;\n",
       "    }\n",
       "\n",
       "    .dataframe thead th {\n",
       "        text-align: right;\n",
       "    }\n",
       "</style>\n",
       "<table border=\"1\" class=\"dataframe\">\n",
       "  <thead>\n",
       "    <tr style=\"text-align: right;\">\n",
       "      <th></th>\n",
       "      <th>StartDate</th>\n",
       "      <th>EndDate</th>\n",
       "      <th>Status</th>\n",
       "      <th>IPAddress</th>\n",
       "      <th>Progress</th>\n",
       "      <th>Duration (in seconds)</th>\n",
       "      <th>Finished</th>\n",
       "      <th>RecordedDate</th>\n",
       "      <th>ResponseId</th>\n",
       "      <th>RecipientLastName</th>\n",
       "      <th>...</th>\n",
       "      <th>profile_align_detail_att</th>\n",
       "      <th>daughter1</th>\n",
       "      <th>daughter2</th>\n",
       "      <th>daughter3</th>\n",
       "      <th>job1</th>\n",
       "      <th>job2</th>\n",
       "      <th>job3</th>\n",
       "      <th>injury1</th>\n",
       "      <th>injury2</th>\n",
       "      <th>injury3</th>\n",
       "    </tr>\n",
       "  </thead>\n",
       "  <tbody>\n",
       "  </tbody>\n",
       "</table>\n",
       "<p>0 rows × 704 columns</p>\n",
       "</div>"
      ],
      "text/plain": [
       "Empty DataFrame\n",
       "Columns: [StartDate, EndDate, Status, IPAddress, Progress, Duration (in seconds), Finished, RecordedDate, ResponseId, RecipientLastName, RecipientFirstName, RecipientEmail, ExternalReference, LocationLatitude, LocationLongitude, DistributionChannel, UserLanguage, QID1, Q3, Q4, Q9, Q47, Q5, Q6, Q7, Q46, QID14_1, QID14_2, QID14_3, QID14_4, QID14_5, QID14_6, QID14_7, QID14_8, QID14_9, QID14_10, QID14_11, QID14_12, QID14_13, QID14_14, QID14_15, QID14_16, QID14_17, Q303_First Click, Q303_Last Click, Q303_Page Submit, Q303_Click Count, 1, Q304_First Click, Q304_Last Click, Q304_Page Submit, Q304_Click Count, 2, Q305_First Click, Q305_Last Click, Q305_Page Submit, Q305_Click Count, 3, Q306_First Click, Q306_Last Click, Q306_Page Submit, Q306_Click Count, 4, Q307_First Click, Q307_Last Click, Q307_Page Submit, Q307_Click Count, 5, Q142_First Click, Q142_Last Click, Q142_Page Submit, Q142_Click Count, Q308_First Click, Q308_Last Click, Q308_Page Submit, Q308_Click Count, 6, Q309_First Click, Q309_Last Click, Q309_Page Submit, Q309_Click Count, 7, Q312_First Click, Q312_Last Click, Q312_Page Submit, Q312_Click Count, 8, Q310_First Click, Q310_Last Click, Q310_Page Submit, Q310_Click Count, 9, Q311_First Click, Q311_Last Click, Q311_Page Submit, Q311_Click Count, 10, 5A5B-1, Q234_First Click, Q234_Last Click, ...]\n",
       "Index: []\n",
       "\n",
       "[0 rows x 704 columns]"
      ]
     },
     "execution_count": 86,
     "metadata": {},
     "output_type": "execute_result"
    }
   ],
   "source": [
    "raw_uchi_num[(raw_uchi_num[\"0A10B-1\"] == 1) & (raw_uchi_num[\"3a7b-5\"] == 1)]"
   ]
  },
  {
   "cell_type": "code",
   "execution_count": 1,
   "metadata": {},
   "outputs": [
    {
     "ename": "NameError",
     "evalue": "name 'raw_num' is not defined",
     "output_type": "error",
     "traceback": [
      "\u001b[0;31m---------------------------------------------------------------------------\u001b[0m",
      "\u001b[0;31mNameError\u001b[0m                                 Traceback (most recent call last)",
      "Cell \u001b[0;32mIn[1], line 1\u001b[0m\n\u001b[0;32m----> 1\u001b[0m \u001b[43mraw_num\u001b[49m[\u001b[38;5;124m\"\u001b[39m\u001b[38;5;124m0A10B-1\u001b[39m\u001b[38;5;124m\"\u001b[39m]\u001b[38;5;241m.\u001b[39mvalue_counts()\n",
      "\u001b[0;31mNameError\u001b[0m: name 'raw_num' is not defined"
     ]
    }
   ],
   "source": [
    "raw_num[\"0A10B-1\"].value_counts()"
   ]
  },
  {
   "cell_type": "code",
   "execution_count": 165,
   "metadata": {},
   "outputs": [],
   "source": [
    "raw_uchi_num[\"0A10B-1\"] = raw_uchi_num[\"0A10B-1\"].notnull().astype(int)"
   ]
  },
  {
   "cell_type": "code",
   "execution_count": 102,
   "metadata": {},
   "outputs": [],
   "source": [
    "echo_chambers = {\n",
    "    (\"10A0B-2\", \"SC0\"),\n",
    "    (\"10A0B-3\", \"SC1\"),\n",
    "    (\"10A0B-4\", \"SC2\"),\n",
    "    (\"10A0B-5\", \"SC3\"),\n",
    "    (\"0A10B-2\", \"SC4\"),\n",
    "    (\"0A10B-3\", \"SC5\"),\n",
    "    (\"0A10B-4\", \"SC6\"),\n",
    "    (\"0A10B-5\", \"SC7\"),\n",
    "}"
   ]
  },
  {
   "cell_type": "code",
   "execution_count": 103,
   "metadata": {},
   "outputs": [],
   "source": [
    "for colname, question in echo_chambers:\n",
    "    raw_num[colname] = np.where(raw_num[question].astype(int) != 0, 1, 0)"
   ]
  },
  {
   "cell_type": "code",
   "execution_count": 104,
   "metadata": {},
   "outputs": [],
   "source": [
    "for colname, question in echo_chambers:\n",
    "    raw_uchi_num[colname] = np.where(raw_uchi_num[question].astype(int) != 0, 1, 0)"
   ]
  },
  {
   "cell_type": "code",
   "execution_count": 117,
   "metadata": {},
   "outputs": [
    {
     "data": {
      "text/plain": [
       "0A10B-1\n",
       "0    91\n",
       "1     8\n",
       "Name: count, dtype: int64"
      ]
     },
     "execution_count": 117,
     "metadata": {},
     "output_type": "execute_result"
    }
   ],
   "source": [
    "raw_num[\"0A10B-1\"].value_counts()"
   ]
  },
  {
   "cell_type": "code",
   "execution_count": 110,
   "metadata": {},
   "outputs": [
    {
     "data": {
      "text/html": [
       "<div>\n",
       "<style scoped>\n",
       "    .dataframe tbody tr th:only-of-type {\n",
       "        vertical-align: middle;\n",
       "    }\n",
       "\n",
       "    .dataframe tbody tr th {\n",
       "        vertical-align: top;\n",
       "    }\n",
       "\n",
       "    .dataframe thead th {\n",
       "        text-align: right;\n",
       "    }\n",
       "</style>\n",
       "<table border=\"1\" class=\"dataframe\">\n",
       "  <thead>\n",
       "    <tr style=\"text-align: right;\">\n",
       "      <th></th>\n",
       "      <th>StartDate</th>\n",
       "      <th>EndDate</th>\n",
       "      <th>Status</th>\n",
       "      <th>IPAddress</th>\n",
       "      <th>Progress</th>\n",
       "      <th>Duration (in seconds)</th>\n",
       "      <th>Finished</th>\n",
       "      <th>RecordedDate</th>\n",
       "      <th>ResponseId</th>\n",
       "      <th>RecipientLastName</th>\n",
       "      <th>...</th>\n",
       "      <th>injury2</th>\n",
       "      <th>injury3</th>\n",
       "      <th>10A0B-2</th>\n",
       "      <th>0A10B-3</th>\n",
       "      <th>10A0B-4</th>\n",
       "      <th>10A0B-3</th>\n",
       "      <th>0A10B-2</th>\n",
       "      <th>10A0B-5</th>\n",
       "      <th>0A10B-4</th>\n",
       "      <th>0A10B-5</th>\n",
       "    </tr>\n",
       "  </thead>\n",
       "  <tbody>\n",
       "    <tr>\n",
       "      <th>5</th>\n",
       "      <td>2024-04-16 17:39:40</td>\n",
       "      <td>2024-04-16 18:05:34</td>\n",
       "      <td>0</td>\n",
       "      <td>72.230.166.166</td>\n",
       "      <td>100</td>\n",
       "      <td>1554</td>\n",
       "      <td>1</td>\n",
       "      <td>2024-04-16 18:05:35</td>\n",
       "      <td>R_3WYEaHZk26viUxB</td>\n",
       "      <td>NaN</td>\n",
       "      <td>...</td>\n",
       "      <td>7</td>\n",
       "      <td>9</td>\n",
       "      <td>0</td>\n",
       "      <td>0</td>\n",
       "      <td>0</td>\n",
       "      <td>0</td>\n",
       "      <td>0</td>\n",
       "      <td>0</td>\n",
       "      <td>0</td>\n",
       "      <td>0</td>\n",
       "    </tr>\n",
       "  </tbody>\n",
       "</table>\n",
       "<p>1 rows × 710 columns</p>\n",
       "</div>"
      ],
      "text/plain": [
       "             StartDate              EndDate Status       IPAddress Progress  \\\n",
       "5  2024-04-16 17:39:40  2024-04-16 18:05:34      0  72.230.166.166      100   \n",
       "\n",
       "  Duration (in seconds) Finished         RecordedDate         ResponseId  \\\n",
       "5                  1554        1  2024-04-16 18:05:35  R_3WYEaHZk26viUxB   \n",
       "\n",
       "  RecipientLastName  ... injury2 injury3 10A0B-2 0A10B-3 10A0B-4 10A0B-3  \\\n",
       "5               NaN  ...       7       9       0       0       0       0   \n",
       "\n",
       "  0A10B-2 10A0B-5 0A10B-4 0A10B-5  \n",
       "5       0       0       0       0  \n",
       "\n",
       "[1 rows x 710 columns]"
      ]
     },
     "execution_count": 110,
     "metadata": {},
     "output_type": "execute_result"
    }
   ],
   "source": [
    "raw_num[raw_num[\"3a7b-5\"].astype(float) == -1]"
   ]
  },
  {
   "cell_type": "code",
   "execution_count": 136,
   "metadata": {},
   "outputs": [],
   "source": [
    "num_echo_chambers_pro = sum(raw_num[\"10A0B-2\"]) + sum(raw_num[\"10A0B-3\"]) + sum(raw_num[\"10A0B-4\"]) + sum(raw_num[\"10A0B-5\"]) "
   ]
  },
  {
   "cell_type": "code",
   "execution_count": 168,
   "metadata": {},
   "outputs": [],
   "source": [
    "num_echo_chambers_pro_uchi = sum(raw_uchi_num[\"10A0B-2\"]) + sum(raw_uchi_num[\"10A0B-3\"]) + sum(raw_uchi_num[\"10A0B-4\"]) + sum(raw_uchi_num[\"10A0B-5\"]) "
   ]
  },
  {
   "cell_type": "code",
   "execution_count": 169,
   "metadata": {},
   "outputs": [
    {
     "data": {
      "text/plain": [
       "10"
      ]
     },
     "execution_count": 169,
     "metadata": {},
     "output_type": "execute_result"
    }
   ],
   "source": [
    "num_echo_chambers_pro_uchi"
   ]
  },
  {
   "cell_type": "code",
   "execution_count": 138,
   "metadata": {},
   "outputs": [
    {
     "data": {
      "text/plain": [
       "28"
      ]
     },
     "execution_count": 138,
     "metadata": {},
     "output_type": "execute_result"
    }
   ],
   "source": [
    "num_echo_chambers_pro"
   ]
  },
  {
   "cell_type": "code",
   "execution_count": 194,
   "metadata": {},
   "outputs": [],
   "source": [
    "num_echo_chambers_anti = sum(raw_num[\"0A10B-2\"]) + sum(raw_num[\"0A10B-3\"]) + sum(raw_num[\"0A10B-4\"]) + sum(raw_num[\"0A10B-5\"]) "
   ]
  },
  {
   "cell_type": "code",
   "execution_count": 195,
   "metadata": {},
   "outputs": [],
   "source": [
    "num_echo_chambers_anti_uchi = sum(raw_uchi_num[\"0A10B-2\"]) + sum(raw_uchi_num[\"0A10B-3\"]) + sum(raw_uchi_num[\"0A10B-4\"]) + sum(raw_uchi_num[\"0A10B-5\"]) "
   ]
  },
  {
   "cell_type": "code",
   "execution_count": 171,
   "metadata": {},
   "outputs": [
    {
     "data": {
      "text/plain": [
       "3"
      ]
     },
     "execution_count": 171,
     "metadata": {},
     "output_type": "execute_result"
    }
   ],
   "source": [
    "num_echo_chambers_anti_uchi"
   ]
  },
  {
   "cell_type": "code",
   "execution_count": 139,
   "metadata": {},
   "outputs": [
    {
     "data": {
      "text/plain": [
       "14"
      ]
     },
     "execution_count": 139,
     "metadata": {},
     "output_type": "execute_result"
    }
   ],
   "source": [
    "num_echo_chambers_anti"
   ]
  },
  {
   "cell_type": "code",
   "execution_count": 140,
   "metadata": {},
   "outputs": [
    {
     "name": "stdout",
     "output_type": "stream",
     "text": [
      "42\n"
     ]
    }
   ],
   "source": [
    "num_echo_chambers = num_echo_chambers_pro + num_echo_chambers_anti\n",
    "print(num_echo_chambers)"
   ]
  },
  {
   "cell_type": "code",
   "execution_count": 172,
   "metadata": {},
   "outputs": [
    {
     "name": "stdout",
     "output_type": "stream",
     "text": [
      "13\n"
     ]
    }
   ],
   "source": [
    "num_echo_chambers_uchi = num_echo_chambers_pro_uchi + num_echo_chambers_anti_uchi\n",
    "print(num_echo_chambers_uchi)"
   ]
  },
  {
   "cell_type": "code",
   "execution_count": 142,
   "metadata": {},
   "outputs": [
    {
     "data": {
      "text/plain": [
       "group\n",
       "1    54\n",
       "0    45\n",
       "Name: count, dtype: int64"
      ]
     },
     "execution_count": 142,
     "metadata": {},
     "output_type": "execute_result"
    }
   ],
   "source": [
    "raw_num[\"group\"].value_counts()"
   ]
  },
  {
   "cell_type": "code",
   "execution_count": 174,
   "metadata": {},
   "outputs": [
    {
     "data": {
      "text/plain": [
       "group\n",
       "1    17\n",
       "0    13\n",
       "Name: count, dtype: int64"
      ]
     },
     "execution_count": 174,
     "metadata": {},
     "output_type": "execute_result"
    }
   ],
   "source": [
    "raw_uchi_num[\"group\"].value_counts()"
   ]
  },
  {
   "cell_type": "code",
   "execution_count": 22,
   "metadata": {},
   "outputs": [
    {
     "data": {
      "text/plain": [
       "0.7746478873239436"
      ]
     },
     "execution_count": 22,
     "metadata": {},
     "output_type": "execute_result"
    }
   ],
   "source": [
    "(42 + 13)/ (54 + 17)"
   ]
  },
  {
   "cell_type": "code",
   "execution_count": 176,
   "metadata": {},
   "outputs": [
    {
     "data": {
      "text/plain": [
       "0.7647058823529411"
      ]
     },
     "execution_count": 176,
     "metadata": {},
     "output_type": "execute_result"
    }
   ],
   "source": [
    "13/17"
   ]
  },
  {
   "cell_type": "code",
   "execution_count": 182,
   "metadata": {},
   "outputs": [
    {
     "data": {
      "text/plain": [
       "gen_att_bi\n",
       " 1    64\n",
       "-1    32\n",
       " 0     3\n",
       "Name: count, dtype: int64"
      ]
     },
     "execution_count": 182,
     "metadata": {},
     "output_type": "execute_result"
    }
   ],
   "source": [
    "raw_num[\"gen_att_bi\"].value_counts()"
   ]
  },
  {
   "cell_type": "code",
   "execution_count": 183,
   "metadata": {},
   "outputs": [
    {
     "data": {
      "text/plain": [
       "0.9696969696969697"
      ]
     },
     "execution_count": 183,
     "metadata": {},
     "output_type": "execute_result"
    }
   ],
   "source": [
    "(64+32) / 99"
   ]
  },
  {
   "cell_type": "code",
   "execution_count": 178,
   "metadata": {},
   "outputs": [
    {
     "data": {
      "text/plain": [
       "gen_att_bi\n",
       " 1    21\n",
       "-1     6\n",
       " 0     3\n",
       "Name: count, dtype: int64"
      ]
     },
     "execution_count": 178,
     "metadata": {},
     "output_type": "execute_result"
    }
   ],
   "source": [
    "raw_uchi_num[\"gen_att_bi\"].value_counts()"
   ]
  },
  {
   "cell_type": "code",
   "execution_count": 179,
   "metadata": {},
   "outputs": [
    {
     "data": {
      "text/plain": [
       "0.9"
      ]
     },
     "execution_count": 179,
     "metadata": {},
     "output_type": "execute_result"
    }
   ],
   "source": [
    "27 / 30"
   ]
  },
  {
   "cell_type": "code",
   "execution_count": 186,
   "metadata": {},
   "outputs": [
    {
     "data": {
      "text/plain": [
       "detail_att_bi\n",
       " 1    75\n",
       "-1    21\n",
       " 0     3\n",
       "Name: count, dtype: int64"
      ]
     },
     "execution_count": 186,
     "metadata": {},
     "output_type": "execute_result"
    }
   ],
   "source": [
    "raw_num[\"detail_att_bi\"].value_counts()"
   ]
  },
  {
   "cell_type": "code",
   "execution_count": 187,
   "metadata": {},
   "outputs": [
    {
     "data": {
      "text/plain": [
       "0.9696969696969697"
      ]
     },
     "execution_count": 187,
     "metadata": {},
     "output_type": "execute_result"
    }
   ],
   "source": [
    "(75 + 21) / 99"
   ]
  },
  {
   "cell_type": "code",
   "execution_count": 184,
   "metadata": {},
   "outputs": [
    {
     "data": {
      "text/plain": [
       "detail_att_bi\n",
       " 1    25\n",
       "-1     4\n",
       " 0     1\n",
       "Name: count, dtype: int64"
      ]
     },
     "execution_count": 184,
     "metadata": {},
     "output_type": "execute_result"
    }
   ],
   "source": [
    "raw_uchi_num[\"detail_att_bi\"].value_counts()"
   ]
  },
  {
   "cell_type": "code",
   "execution_count": 185,
   "metadata": {},
   "outputs": [
    {
     "data": {
      "text/plain": [
       "0.9666666666666667"
      ]
     },
     "execution_count": 185,
     "metadata": {},
     "output_type": "execute_result"
    }
   ],
   "source": [
    "29 / 30"
   ]
  },
  {
   "cell_type": "code",
   "execution_count": 220,
   "metadata": {},
   "outputs": [
    {
     "data": {
      "text/plain": [
       "Q226\n",
       "4    18\n",
       "5    15\n",
       "2    13\n",
       "3    12\n",
       "1     3\n",
       "Name: count, dtype: int64"
      ]
     },
     "execution_count": 220,
     "metadata": {},
     "output_type": "execute_result"
    }
   ],
   "source": [
    "# 2 male, 1 female\n",
    "raw_num[\"Q226\"].value_counts()"
   ]
  },
  {
   "cell_type": "code",
   "execution_count": 219,
   "metadata": {},
   "outputs": [
    {
     "data": {
      "text/plain": [
       "Q226\n",
       "Somewhat Liberal         18\n",
       "Very Liberal             15\n",
       "Somewhat Conservative    13\n",
       "Moderate                 12\n",
       "Very Conservative         3\n",
       "Name: count, dtype: int64"
      ]
     },
     "execution_count": 219,
     "metadata": {},
     "output_type": "execute_result"
    }
   ],
   "source": [
    "raw[\"Q226\"].value_counts()"
   ]
  },
  {
   "cell_type": "code",
   "execution_count": 211,
   "metadata": {},
   "outputs": [
    {
     "data": {
      "text/plain": [
       "Q224\n",
       "1    25\n",
       "2    17\n",
       "3    16\n",
       "4     3\n",
       "Name: count, dtype: int64"
      ]
     },
     "execution_count": 211,
     "metadata": {},
     "output_type": "execute_result"
    }
   ],
   "source": [
    "raw_num[\"Q224\"].value_counts()"
   ]
  },
  {
   "cell_type": "code",
   "execution_count": 85,
   "metadata": {},
   "outputs": [],
   "source": [
    "raw_num[\"religious\"] = raw_num[\"Q224\"].astype(int)"
   ]
  },
  {
   "cell_type": "code",
   "execution_count": 15,
   "metadata": {},
   "outputs": [],
   "source": [
    "raw_num[\"gender\"] = raw_num[\"Q227\"].astype(int) - 1"
   ]
  },
  {
   "cell_type": "code",
   "execution_count": 87,
   "metadata": {},
   "outputs": [],
   "source": [
    "raw_num[\"liberal\"] = raw_num[\"Q226\"].astype(int)"
   ]
  },
  {
   "cell_type": "code",
   "execution_count": 16,
   "metadata": {},
   "outputs": [],
   "source": [
    "raw_uchi_num[\"religious\"] = raw_uchi_num[\"Q224\"].astype(int)\n",
    "raw_uchi_num[\"gender\"] = raw_uchi_num[\"Q227\"].astype(int) - 1\n",
    "raw_uchi_num[\"liberal\"] = raw_uchi_num[\"Q226\"].astype(int)"
   ]
  },
  {
   "cell_type": "code",
   "execution_count": 18,
   "metadata": {},
   "outputs": [
    {
     "data": {
      "text/plain": [
       "gender\n",
       "1    62\n",
       "0    36\n",
       "2     1\n",
       "Name: count, dtype: int64"
      ]
     },
     "execution_count": 18,
     "metadata": {},
     "output_type": "execute_result"
    }
   ],
   "source": [
    "raw_num[\"gender\"].value_counts()"
   ]
  },
  {
   "cell_type": "code",
   "execution_count": 19,
   "metadata": {},
   "outputs": [
    {
     "data": {
      "text/plain": [
       "gender\n",
       "1    15\n",
       "0    14\n",
       "4     1\n",
       "Name: count, dtype: int64"
      ]
     },
     "execution_count": 19,
     "metadata": {},
     "output_type": "execute_result"
    }
   ],
   "source": [
    "raw_uchi_num[\"gender\"].value_counts()"
   ]
  },
  {
   "cell_type": "code",
   "execution_count": 215,
   "metadata": {},
   "outputs": [],
   "source": [
    "data2 = raw_num[[\"group\", \"profile_align_detail_att\", \"profile_align_att\", \n",
    "                 \"gen_att\", \"detail_att\", \"gen_att_bi\", \"detail_att_bi\",\n",
    "                 \"daughter1\", \"daughter2\", \"daughter3\", \"job1\", \"job2\",\n",
    "                 \"job3\", \"injury1\",  \"injury2\", \"injury3\", \"Engagement\", \n",
    "                 \"Consensus_1\", \"EC\", \"PT\", \"EE\", \"education\", \"religious\", \"gender\", \"liberal\",\n",
    "                 \"10A0B-1\", \"10A0B-2\",\"10A0B-3\",\"10A0B-4\",\"10A0B-5\",\n",
    "                 \"0A10B-1\",\"0A10B-2\",\"0A10B-3\",\"0A10B-4\",\"0A10B-5\", \"8A2B-1\",\n",
    "                 \"2A8B-1\",\n",
    "                 \"Duration (in seconds)\"]]"
   ]
  },
  {
   "cell_type": "code",
   "execution_count": 216,
   "metadata": {},
   "outputs": [],
   "source": [
    "data2.to_csv(\"test2\")"
   ]
  },
  {
   "cell_type": "code",
   "execution_count": 227,
   "metadata": {},
   "outputs": [
    {
     "data": {
      "text/plain": [
       "Engagement\n",
       "1    19\n",
       "2    19\n",
       "3    14\n",
       "4     9\n",
       "Name: count, dtype: int64"
      ]
     },
     "execution_count": 227,
     "metadata": {},
     "output_type": "execute_result"
    }
   ],
   "source": [
    "raw_num[\"Engagement\"].value_counts()"
   ]
  },
  {
   "cell_type": "code",
   "execution_count": 228,
   "metadata": {},
   "outputs": [
    {
     "data": {
      "text/plain": [
       "Engagement\n",
       "Not at all    19\n",
       "Slightly      19\n",
       "Moderately    14\n",
       "Much           9\n",
       "Name: count, dtype: int64"
      ]
     },
     "execution_count": 228,
     "metadata": {},
     "output_type": "execute_result"
    }
   ],
   "source": [
    "raw[\"Engagement\"].value_counts()"
   ]
  },
  {
   "cell_type": "code",
   "execution_count": 201,
   "metadata": {},
   "outputs": [
    {
     "data": {
      "text/plain": [
       "Q219\n",
       "Bachelor’s degree                                                       39\n",
       "Some college, but no degree                                             21\n",
       "High school diploma or GED                                              15\n",
       "Associates or technical degree                                          13\n",
       "Graduate or professional degree (MA, MS, MBA, PhD, JD, MD, DDS etc.)    11\n",
       "Name: count, dtype: int64"
      ]
     },
     "execution_count": 201,
     "metadata": {},
     "output_type": "execute_result"
    }
   ],
   "source": [
    "raw[\"Q219\"].value_counts()"
   ]
  },
  {
   "cell_type": "code",
   "execution_count": 205,
   "metadata": {},
   "outputs": [],
   "source": [
    "raw_num[\"education\"] = raw_num[\"Q219\"]"
   ]
  },
  {
   "cell_type": "code",
   "execution_count": 204,
   "metadata": {},
   "outputs": [
    {
     "data": {
      "text/plain": [
       "Q219\n",
       "5    39\n",
       "3    21\n",
       "2    15\n",
       "4    13\n",
       "6    11\n",
       "Name: count, dtype: int64"
      ]
     },
     "execution_count": 204,
     "metadata": {},
     "output_type": "execute_result"
    }
   ],
   "source": [
    "raw_num[\"Q219\"].value_counts()"
   ]
  },
  {
   "cell_type": "code",
   "execution_count": 203,
   "metadata": {},
   "outputs": [
    {
     "data": {
      "text/plain": [
       "Q302\n",
       "Sophomore    14\n",
       "Freshman     14\n",
       "Other         1\n",
       "Senior        1\n",
       "Name: count, dtype: int64"
      ]
     },
     "execution_count": 203,
     "metadata": {},
     "output_type": "execute_result"
    }
   ],
   "source": [
    "raw_uchi[\"Q302\"].value_counts()"
   ]
  },
  {
   "cell_type": "code",
   "execution_count": 208,
   "metadata": {},
   "outputs": [],
   "source": [
    "raw_uchi_num[\"education\"] = 3"
   ]
  },
  {
   "cell_type": "code",
   "execution_count": 217,
   "metadata": {},
   "outputs": [],
   "source": [
    "data3 = raw_uchi_num[[\"group\", \"profile_align_detail_att\", \"profile_align_att\", \n",
    "                 \"gen_att\", \"detail_att\", \"gen_att_bi\", \"detail_att_bi\",\n",
    "                 \"daughter1\", \"daughter2\", \"daughter3\", \"job1\", \"job2\",\n",
    "                 \"job3\", \"injury1\",  \"injury2\", \"injury3\", \"Engagement\", \n",
    "                 \"Consensus_1\", \"EC\", \"PT\", \"EE\", \"education\", \"religious\", \"gender\", \"liberal\",\n",
    "                 \"10A0B-1\", \"10A0B-2\",\"10A0B-3\",\"10A0B-4\",\"10A0B-5\",\n",
    "                 \"0A10B-1\",\"0A10B-2\",\"0A10B-3\",\"0A10B-4\",\"0A10B-5\", \"8A2B-1\",\n",
    "                 \"2A8B-1\",\n",
    "                 \"Duration (in seconds)\"]]"
   ]
  },
  {
   "cell_type": "code",
   "execution_count": 21,
   "metadata": {},
   "outputs": [
    {
     "data": {
      "text/plain": [
       "Engagement\n",
       "Not at all    10\n",
       "Moderately     8\n",
       "Slightly       8\n",
       "Much           3\n",
       "Very much      1\n",
       "Name: count, dtype: int64"
      ]
     },
     "execution_count": 21,
     "metadata": {},
     "output_type": "execute_result"
    }
   ],
   "source": [
    "raw_uchi[\"Engagement\"].value_counts(\n",
    ")"
   ]
  },
  {
   "cell_type": "code",
   "execution_count": 271,
   "metadata": {},
   "outputs": [],
   "source": [
    "data3.to_csv(\"test1_uchi\")"
   ]
  },
  {
   "cell_type": "code",
   "execution_count": 218,
   "metadata": {},
   "outputs": [],
   "source": [
    "combined = pd.concat([data2, data3])"
   ]
  },
  {
   "cell_type": "code",
   "execution_count": 282,
   "metadata": {},
   "outputs": [
    {
     "data": {
      "text/plain": [
       "(80, 22)"
      ]
     },
     "execution_count": 282,
     "metadata": {},
     "output_type": "execute_result"
    }
   ],
   "source": [
    "combined.shape"
   ]
  },
  {
   "cell_type": "code",
   "execution_count": 219,
   "metadata": {},
   "outputs": [],
   "source": [
    "combined.to_csv(\"combined\")"
   ]
  },
  {
   "cell_type": "code",
   "execution_count": 220,
   "metadata": {},
   "outputs": [
    {
     "data": {
      "text/plain": [
       "religious\n",
       "1    54\n",
       "2    30\n",
       "3    27\n",
       "4    13\n",
       "6     5\n",
       "Name: count, dtype: int64"
      ]
     },
     "execution_count": 220,
     "metadata": {},
     "output_type": "execute_result"
    }
   ],
   "source": [
    "combined[\"religious\"].value_counts()\n"
   ]
  },
  {
   "cell_type": "code",
   "execution_count": 224,
   "metadata": {},
   "outputs": [
    {
     "data": {
      "text/plain": [
       "Q224\n",
       "Not religious           10\n",
       "Slightly religious       6\n",
       "Prefer not to say        5\n",
       "Moderately religious     5\n",
       "Very religious           4\n",
       "Name: count, dtype: int64"
      ]
     },
     "execution_count": 224,
     "metadata": {},
     "output_type": "execute_result"
    }
   ],
   "source": [
    "raw_uchi[\"Q224\"].value_counts()"
   ]
  },
  {
   "cell_type": "code",
   "execution_count": 229,
   "metadata": {},
   "outputs": [],
   "source": [
    "raw_num[\"8A2B-1\"] = raw_num[\"8A2B-1\"].notnull().astype(int)"
   ]
  },
  {
   "cell_type": "code",
   "execution_count": 237,
   "metadata": {},
   "outputs": [],
   "source": [
    "raw_num[\"2A8B-1\"] = raw_num[\"2A8B-1\"].notnull().astype(int)"
   ]
  },
  {
   "cell_type": "code",
   "execution_count": 234,
   "metadata": {},
   "outputs": [],
   "source": [
    "raw_uchi_num[\"8A2B-1\"] = raw_uchi_num[\"8A2B-1\"].notnull().astype(int)"
   ]
  },
  {
   "cell_type": "code",
   "execution_count": 238,
   "metadata": {},
   "outputs": [],
   "source": [
    "raw_uchi_num[\"2A8B-1\"] = raw_uchi_num[\"2A8B-1\"].notnull().astype(int)"
   ]
  },
  {
   "cell_type": "code",
   "execution_count": 239,
   "metadata": {},
   "outputs": [],
   "source": [
    "raw_num[\"2A8B-1\"] = np.where((raw_num['2A8B-1'] == 1) & (raw_num[\"0A10B-1\"]==0), 1, 0)"
   ]
  },
  {
   "cell_type": "code",
   "execution_count": null,
   "metadata": {},
   "outputs": [],
   "source": [
    "raw_num[\"8A2B-1\"] = np.where((raw_num['8A2B-1'] == 1) & (raw_num[\"10A0B-1\"]==0), 1, 0)"
   ]
  },
  {
   "cell_type": "code",
   "execution_count": 235,
   "metadata": {},
   "outputs": [],
   "source": [
    "raw_uchi_num[\"8A2B-1\"] = np.where((raw_uchi_num['8A2B-1'] == 1) & (raw_uchi_num[\"10A0B-1\"]==0), 1, 0)"
   ]
  },
  {
   "cell_type": "code",
   "execution_count": 240,
   "metadata": {},
   "outputs": [],
   "source": [
    "raw_uchi_num[\"2A8B-1\"] = np.where((raw_uchi_num['2A8B-1'] == 1) & (raw_uchi_num[\"0A10B-1\"]==0), 1, 0)"
   ]
  },
  {
   "cell_type": "code",
   "execution_count": 242,
   "metadata": {},
   "outputs": [
    {
     "data": {
      "text/plain": [
       "2A8B-1\n",
       "0    89\n",
       "1    10\n",
       "Name: count, dtype: int64"
      ]
     },
     "execution_count": 242,
     "metadata": {},
     "output_type": "execute_result"
    }
   ],
   "source": [
    "raw_num[\"2A8B-1\"].value_counts()"
   ]
  },
  {
   "cell_type": "code",
   "execution_count": 213,
   "metadata": {},
   "outputs": [
    {
     "data": {
      "text/plain": [
       "count      99.000000\n",
       "mean     1505.484848\n",
       "std       712.389918\n",
       "min       572.000000\n",
       "25%       960.000000\n",
       "50%      1442.000000\n",
       "75%      1857.000000\n",
       "max      5601.000000\n",
       "Name: Duration (in seconds), dtype: float64"
      ]
     },
     "execution_count": 213,
     "metadata": {},
     "output_type": "execute_result"
    }
   ],
   "source": [
    "raw_num[\"Duration (in seconds)\"].astype(int).describe()"
   ]
  },
  {
   "cell_type": "code",
   "execution_count": 214,
   "metadata": {},
   "outputs": [
    {
     "data": {
      "text/plain": [
       "count      30.000000\n",
       "mean     1823.466667\n",
       "std      1526.145307\n",
       "min       550.000000\n",
       "25%      1138.750000\n",
       "50%      1280.000000\n",
       "75%      1566.250000\n",
       "max      6892.000000\n",
       "Name: Duration (in seconds), dtype: float64"
      ]
     },
     "execution_count": 214,
     "metadata": {},
     "output_type": "execute_result"
    }
   ],
   "source": [
    "raw_uchi_num[\"Duration (in seconds)\"].astype(int).describe()"
   ]
  },
  {
   "cell_type": "code",
   "execution_count": null,
   "metadata": {},
   "outputs": [],
   "source": []
  }
 ],
 "metadata": {
  "kernelspec": {
   "display_name": "Python 3.10.9 ('base')",
   "language": "python",
   "name": "python3"
  },
  "language_info": {
   "codemirror_mode": {
    "name": "ipython",
    "version": 3
   },
   "file_extension": ".py",
   "mimetype": "text/x-python",
   "name": "python",
   "nbconvert_exporter": "python",
   "pygments_lexer": "ipython3",
   "version": "3.10.9"
  },
  "orig_nbformat": 4,
  "vscode": {
   "interpreter": {
    "hash": "1f759ffef1a6238f0cc7d082b1d1c10faeac2a7e5e5cd247bc6e13d55eb9f4e1"
   }
  }
 },
 "nbformat": 4,
 "nbformat_minor": 2
}
